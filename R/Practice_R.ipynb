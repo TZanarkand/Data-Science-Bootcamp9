{
  "nbformat": 4,
  "nbformat_minor": 0,
  "metadata": {
    "colab": {
      "provenance": []
    },
    "kernelspec": {
      "name": "ir",
      "display_name": "R"
    },
    "language_info": {
      "name": "R"
    }
  },
  "cells": [
    {
      "cell_type": "markdown",
      "source": [
        "# Pao-Ying-Chup"
      ],
      "metadata": {
        "id": "wG-vklE_s6g4"
      }
    },
    {
      "cell_type": "code",
      "execution_count": null,
      "metadata": {
        "id": "XplNFWYNXzbI"
      },
      "outputs": [],
      "source": [
        "library(glue)\n",
        "\n",
        "game <- function(){\n",
        "  username <- tolower(readline(\"type your name: \"))\n",
        "  print(glue(\"Hi {username} welcome to Pao-Ying-Chup Game\"))\n",
        "  print(\"Select your choice and beat the bot.\")\n",
        "  print(\"At the end, it will sum up the final score. If you're ready, let's go.\")\n",
        "\n",
        "  weapon <- c(rock = \"r\", paper = \"p\", scissors = \"s\")\n",
        "  score <- c(Win = 0, Lose = 0, Tie = 0)\n",
        "\n",
        "  while(TRUE){\n",
        "    flush.console()\n",
        "    message(\"rock(r), paper(p), scissors(s) or quit(q)\")\n",
        "    my_weapon <- tolower(readline(\"choose your weapon: \"))\n",
        "\n",
        "    # bot select weapon\n",
        "    bot_weapon <- sample(weapon, 1)\n",
        "\n",
        "    # result\n",
        "    if(my_weapon == \"q\"){\n",
        "      # ดูว่า score ที่มากสุดของเราตรงกับ index ไหนของ score\n",
        "      if (grep(max(score), score)==1) {\n",
        "        print(\"You win 🥇\")\n",
        "      }\n",
        "      else if (grep(max(score), score)==2) {\n",
        "        print(\"You lose 🥹\")\n",
        "      }\n",
        "      else if (grep(max(score), score)==3) {\n",
        "        print(\"You tie 😎\")\n",
        "      }\n",
        "      print(score)\n",
        "      print(\"Thank you!\")\n",
        "      break\n",
        "    }\n",
        "\n",
        "    else{\n",
        "      # Tie\n",
        "      if(my_weapon == bot_weapon){\n",
        "        score[3] <- score[3] + 1\n",
        "        print(paste(\"my answer is:\",my_weapon))\n",
        "        print(paste(\"bot answer is:\",bot_weapon))\n",
        "        print(score)\n",
        "      }\n",
        "\n",
        "      # Win\n",
        "      else if(my_weapon == \"r\" & bot_weapon == \"s\" ||\n",
        "              my_weapon == \"p\" & bot_weapon == \"r\" ||\n",
        "              my_weapon == \"s\" & bot_weapon == \"p\"){\n",
        "         score[1] <- score[1] + 1\n",
        "         print(paste(\"my answer is:\",my_weapon))\n",
        "         print(paste(\"bot answer is:\",bot_weapon))\n",
        "         print(score)\n",
        "      }\n",
        "\n",
        "      # Lose\n",
        "      else if(my_weapon == \"r\" & bot_weapon == \"p\" ||\n",
        "              my_weapon == \"p\" & bot_weapon == \"s\" ||\n",
        "              my_weapon == \"s\" & bot_weapon == \"r\"){\n",
        "         score[2] <- score[2] + 1\n",
        "         print(paste(\"my answer is:\",my_weapon))\n",
        "         print(paste(\"bot answer is:\",bot_weapon))\n",
        "         print(score)\n",
        "      }\n",
        "    }\n",
        "\n",
        "  }\n",
        "}"
      ]
    },
    {
      "cell_type": "code",
      "source": [
        "game()"
      ],
      "metadata": {
        "id": "DEq2vd3IYAvc",
        "outputId": "e8aafaad-2439-4e4e-bb0f-7ce4bd7008d2",
        "colab": {
          "base_uri": "https://localhost:8080/"
        }
      },
      "execution_count": null,
      "outputs": [
        {
          "output_type": "stream",
          "name": "stdout",
          "text": [
            "type your name: Sam\n",
            "Hi sam welcome to Pao-Ying-Chup Game\n",
            "[1] \"Select your choice and beat the bot.\"\n",
            "[1] \"At the end, it will sum up the final score. If you're ready, let's go.\"\n"
          ]
        },
        {
          "output_type": "stream",
          "name": "stderr",
          "text": [
            "rock(r), paper(p), scissors(s) or quit(q)\n",
            "\n"
          ]
        },
        {
          "output_type": "stream",
          "name": "stdout",
          "text": [
            "choose your weapon: r\n",
            "[1] \"my answer is: r\"\n",
            "[1] \"bot answer is: r\"\n",
            " Win Lose  Tie \n",
            "   0    0    1 \n"
          ]
        },
        {
          "output_type": "stream",
          "name": "stderr",
          "text": [
            "rock(r), paper(p), scissors(s) or quit(q)\n",
            "\n"
          ]
        },
        {
          "output_type": "stream",
          "name": "stdout",
          "text": [
            "choose your weapon: q\n",
            "[1] \"You tie 😎\"\n",
            " Win Lose  Tie \n",
            "   0    0    1 \n",
            "[1] \"Thank you!\"\n"
          ]
        }
      ]
    },
    {
      "cell_type": "markdown",
      "source": [
        "# Order Pizza"
      ],
      "metadata": {
        "id": "pjfMDgqWtCMX"
      }
    },
    {
      "cell_type": "code",
      "source": [
        "order <- function(){\n",
        "  username <- readline(\"type your name: \")\n",
        "  message(paste(username, \"Welcome to 'Pizza Funwan' Do you want to view the menu?\"))\n",
        "  if (tolower(readline(\"Yes / No: \")) == \"yes\") {\n",
        "    menu <- data.frame(\n",
        "      id = 1:7,\n",
        "      name = c(\"Hawaiian\",\"Veggie\",\"Seafood\",\"BBQ chicken\",\"Cheese\",\"Water\",\"Soda\"),\n",
        "      price = c(200,250,280,180,150,20,30)\n",
        "    )\n",
        "    print(menu,row.names=F)\n",
        "  }\n",
        "  else {\n",
        "    print(\"OK Let's to next step !!\")\n",
        "  }\n",
        "\n",
        "  total = 0\n",
        "  message(\"Please input menu_id for select your pizze/drink. If finish order please input 'f'\")\n",
        "  message(\"Today, Buy 1000 get 100 special discount\")\n",
        "\n",
        "  while(TRUE){\n",
        "    #ใช้สำหรับ แสดงผล output ให้เป็นปัจจุบัน ใน colab, datalore จะมีปัญหาการแสดงผล console ตอนที่ใช้ Loop กับ readline แต่ rstudio จะไม่เจอปัญหานี้\n",
        "    flush.console()\n",
        "    order <- readline(\"What your order (id) or type (q) to finished: \")\n",
        "\n",
        "    # finished orders + promotion if u buy [>=1000 bath]\n",
        "    if(order == \"q\"){\n",
        "      if (total >= 1000){\n",
        "        total = total - 100}\n",
        "\n",
        "      print(paste(\"total = \",total, \"USD. Would you like to pay by cash / credit card\"))\n",
        "\n",
        "      break\n",
        "    }\n",
        "\n",
        "    # assign orders\n",
        "    else{\n",
        "      quantity <- as.numeric(readline(\"How many : \"))\n",
        "\n",
        "      # ดึงตำแหน่งแบบ row, column จะได้เมนูกับราคามา และนำไปคูณกับ จำนวนที่เราป้อน\n",
        "      print(paste(menu[[order,\"name\"]], \"price:\",menu[[order,\"price\"]]*quantity))\n",
        "      total <- total + (menu[[order,\"price\"]]*quantity)\n",
        "      print(paste(\"total price:\",total))\n",
        "    }\n",
        "  }\n",
        "\n",
        "}"
      ],
      "metadata": {
        "id": "D3c2UBl-YCa4"
      },
      "execution_count": null,
      "outputs": []
    },
    {
      "cell_type": "code",
      "source": [
        "order()"
      ],
      "metadata": {
        "id": "_3hbADnjYDf8",
        "colab": {
          "base_uri": "https://localhost:8080/"
        },
        "outputId": "747778ec-838c-4699-e74b-dfadc77c1112"
      },
      "execution_count": null,
      "outputs": [
        {
          "name": "stdout",
          "output_type": "stream",
          "text": [
            "type your name: Sam\n"
          ]
        },
        {
          "output_type": "stream",
          "name": "stderr",
          "text": [
            "Sam Welcome to 'Pizza Funwan' Do you want to view the menu?\n",
            "\n"
          ]
        },
        {
          "output_type": "stream",
          "name": "stdout",
          "text": [
            "Yes / No: Yes\n",
            " id        name price\n",
            "  1    Hawaiian   200\n",
            "  2      Veggie   250\n",
            "  3     Seafood   280\n",
            "  4 BBQ chicken   180\n",
            "  5      Cheese   150\n",
            "  6       Water    20\n",
            "  7        Soda    30\n"
          ]
        },
        {
          "output_type": "stream",
          "name": "stderr",
          "text": [
            "Please input menu_id for select your pizze/drink. If finish order please input 'f'\n",
            "\n",
            "Today, Buy 1000 get 100 special discount\n",
            "\n"
          ]
        },
        {
          "output_type": "stream",
          "name": "stdout",
          "text": [
            "What your order (id) or type (q) to finished: 2\n",
            "How many : 4\n",
            "[1] \"Veggie price: 1000\"\n",
            "[1] \"total price: 1000\"\n",
            "What your order (id) or type (q) to finished: q\n",
            "[1] \"total =  900 USD. Would you like to pay by cash / credit card\"\n"
          ]
        }
      ]
    }
  ]
}