{
  "nbformat": 4,
  "nbformat_minor": 0,
  "metadata": {
    "colab": {
      "provenance": [],
      "authorship_tag": "ABX9TyNqtx1s9GQ0pmvNoLlr8dbq",
      "include_colab_link": true
    },
    "kernelspec": {
      "name": "ir",
      "display_name": "R"
    },
    "language_info": {
      "name": "R"
    }
  },
  "cells": [
    {
      "cell_type": "markdown",
      "metadata": {
        "id": "view-in-github",
        "colab_type": "text"
      },
      "source": [
        "<a href=\"https://colab.research.google.com/github/TZanarkand/Data-Science-Bootcamp9/blob/main/Basic_1_Foundation.ipynb\" target=\"_parent\"><img src=\"https://colab.research.google.com/assets/colab-badge.svg\" alt=\"Open In Colab\"/></a>"
      ]
    },
    {
      "cell_type": "markdown",
      "source": [
        "# **Programming Foundation**\n",
        "- variable\n",
        "- data type\n",
        "- data structure\n",
        "- function\n",
        "- control flow"
      ],
      "metadata": {
        "id": "2S1t8ct_JjAx"
      }
    },
    {
      "cell_type": "code",
      "source": [
        "5**2 # 5*5"
      ],
      "metadata": {
        "colab": {
          "base_uri": "https://localhost:8080/",
          "height": 34
        },
        "id": "kXPFLiltKHQb",
        "outputId": "03c23df0-0570-486b-fc00-d063978cf3e4"
      },
      "execution_count": null,
      "outputs": [
        {
          "output_type": "display_data",
          "data": {
            "text/html": [
              "25"
            ],
            "text/markdown": "25",
            "text/latex": "25",
            "text/plain": [
              "[1] 25"
            ]
          },
          "metadata": {}
        }
      ]
    },
    {
      "cell_type": "code",
      "source": [
        "# comment\n",
        "# note to this code cell\n",
        "print(\"Hello World\")"
      ],
      "metadata": {
        "colab": {
          "base_uri": "https://localhost:8080/"
        },
        "id": "M1DLuBVeKPry",
        "outputId": "c6f5e98f-c7e9-4cfa-8157-aa4edbf34481"
      },
      "execution_count": null,
      "outputs": [
        {
          "output_type": "stream",
          "name": "stdout",
          "text": [
            "[1] \"Hello World\"\n"
          ]
        }
      ]
    },
    {
      "cell_type": "code",
      "source": [
        "1+2"
      ],
      "metadata": {
        "colab": {
          "base_uri": "https://localhost:8080/",
          "height": 34
        },
        "id": "JVn3feNZKgYS",
        "outputId": "7cf2ef23-8d18-45b2-e36e-e2139fcd5d76"
      },
      "execution_count": null,
      "outputs": [
        {
          "output_type": "display_data",
          "data": {
            "text/html": [
              "3"
            ],
            "text/markdown": "3",
            "text/latex": "3",
            "text/plain": [
              "[1] 3"
            ]
          },
          "metadata": {}
        }
      ]
    },
    {
      "cell_type": "markdown",
      "source": [
        "## **Variables**"
      ],
      "metadata": {
        "id": "sCTNGVTgKyXb"
      }
    },
    {
      "cell_type": "code",
      "source": [
        "income <- 35000\n",
        "expense <- 25000\n",
        "saving <- income - expense\n",
        "\n",
        "print(saving)"
      ],
      "metadata": {
        "colab": {
          "base_uri": "https://localhost:8080/"
        },
        "id": "SkR83Jz1K8iC",
        "outputId": "3b07abbb-4a6e-4b0f-f466-6c8c0e4dc3d1"
      },
      "execution_count": null,
      "outputs": [
        {
          "output_type": "stream",
          "name": "stdout",
          "text": [
            "[1] 10000\n"
          ]
        }
      ]
    },
    {
      "cell_type": "code",
      "source": [
        "print(income)"
      ],
      "metadata": {
        "colab": {
          "base_uri": "https://localhost:8080/"
        },
        "id": "kTY8F6pLLHJx",
        "outputId": "43e7738a-c872-4a89-bcf4-89a083d28d59"
      },
      "execution_count": null,
      "outputs": [
        {
          "output_type": "stream",
          "name": "stdout",
          "text": [
            "[1] 35000\n"
          ]
        }
      ]
    },
    {
      "cell_type": "code",
      "source": [
        "# create new variable\n",
        "\"Sun\" -> my_name\n",
        "my_name <- \"Sam\"\n",
        "print(my_name)"
      ],
      "metadata": {
        "colab": {
          "base_uri": "https://localhost:8080/"
        },
        "id": "1p-J3c_2Lasq",
        "outputId": "8c7025d3-76da-4bc6-9d27-232b57a1746d"
      },
      "execution_count": null,
      "outputs": [
        {
          "output_type": "stream",
          "name": "stdout",
          "text": [
            "[1] \"Sam\"\n"
          ]
        }
      ]
    },
    {
      "cell_type": "code",
      "source": [
        "# remove variable\n",
        "rm(my_name)"
      ],
      "metadata": {
        "id": "a92e15RTMbhR"
      },
      "execution_count": null,
      "outputs": []
    },
    {
      "cell_type": "code",
      "source": [
        "# save income for 10 years, interest rate 5%\n",
        "\n",
        "income = 100000\n",
        "income * ((1+0.05) ** 20)"
      ],
      "metadata": {
        "colab": {
          "base_uri": "https://localhost:8080/",
          "height": 34
        },
        "id": "KQa77h2ENgww",
        "outputId": "504781b7-3de3-45bb-b3e6-6d82b5bcc787"
      },
      "execution_count": null,
      "outputs": [
        {
          "output_type": "display_data",
          "data": {
            "text/html": [
              "265329.770514442"
            ],
            "text/markdown": "265329.770514442",
            "text/latex": "265329.770514442",
            "text/plain": [
              "[1] 265329.8"
            ]
          },
          "metadata": {}
        }
      ]
    },
    {
      "cell_type": "markdown",
      "source": [
        "# **Data Types**\n",
        "  \n",
        "- numeric\n",
        "- character (text,string)\n",
        "- logical (TRUE, FALSE)\n",
        "- date\n",
        "- factor (categorical - stats, special in R)"
      ],
      "metadata": {
        "id": "9JDJNb9POjQh"
      }
    },
    {
      "cell_type": "code",
      "source": [
        "# numeric\n",
        "gpa <- 3.41\n",
        "print(gpa)\n",
        "print(class(gpa))"
      ],
      "metadata": {
        "colab": {
          "base_uri": "https://localhost:8080/"
        },
        "id": "gebS42LhYkC6",
        "outputId": "240cb230-478c-42b7-fe38-d1c9e199a40c"
      },
      "execution_count": null,
      "outputs": [
        {
          "output_type": "stream",
          "name": "stdout",
          "text": [
            "[1] 3.41\n",
            "[1] \"numeric\"\n"
          ]
        }
      ]
    },
    {
      "cell_type": "code",
      "source": [
        "## character\n",
        "class(\"hello world\")"
      ],
      "metadata": {
        "colab": {
          "base_uri": "https://localhost:8080/",
          "height": 34
        },
        "id": "FRUyNckrY8Cw",
        "outputId": "0d681fe5-7611-4d1d-e66f-bd7c91468aeb"
      },
      "execution_count": null,
      "outputs": [
        {
          "output_type": "display_data",
          "data": {
            "text/html": [
              "'character'"
            ],
            "text/markdown": "'character'",
            "text/latex": "'character'",
            "text/plain": [
              "[1] \"character\""
            ]
          },
          "metadata": {}
        }
      ]
    },
    {
      "cell_type": "code",
      "source": [
        "## concat two character\n",
        "paste0(\"hello\", \"world\")\n",
        "paste(\"hello\", \"world\")"
      ],
      "metadata": {
        "colab": {
          "base_uri": "https://localhost:8080/",
          "height": 52
        },
        "id": "NM457mELZZJb",
        "outputId": "9c480ba9-ee76-4a4f-c873-8f9d8170ddfc"
      },
      "execution_count": null,
      "outputs": [
        {
          "output_type": "display_data",
          "data": {
            "text/html": [
              "'helloworld'"
            ],
            "text/markdown": "'helloworld'",
            "text/latex": "'helloworld'",
            "text/plain": [
              "[1] \"helloworld\""
            ]
          },
          "metadata": {}
        },
        {
          "output_type": "display_data",
          "data": {
            "text/html": [
              "'hello world'"
            ],
            "text/markdown": "'hello world'",
            "text/latex": "'hello world'",
            "text/plain": [
              "[1] \"hello world\""
            ]
          },
          "metadata": {}
        }
      ]
    },
    {
      "cell_type": "code",
      "source": [
        "## boolean\n",
        "class(F)\n",
        "class(T)\n",
        "1+1 == 2\n",
        "5 != 5\n",
        "!FALSE\n",
        "!(1+1 == 2)\n",
        "\"hi\" == \"Hi\""
      ],
      "metadata": {
        "colab": {
          "base_uri": "https://localhost:8080/",
          "height": 138
        },
        "id": "WwOemk4mat9r",
        "outputId": "42abc5e1-e8de-4139-dadc-30a5defcb736"
      },
      "execution_count": null,
      "outputs": [
        {
          "output_type": "display_data",
          "data": {
            "text/html": [
              "'logical'"
            ],
            "text/markdown": "'logical'",
            "text/latex": "'logical'",
            "text/plain": [
              "[1] \"logical\""
            ]
          },
          "metadata": {}
        },
        {
          "output_type": "display_data",
          "data": {
            "text/html": [
              "'logical'"
            ],
            "text/markdown": "'logical'",
            "text/latex": "'logical'",
            "text/plain": [
              "[1] \"logical\""
            ]
          },
          "metadata": {}
        },
        {
          "output_type": "display_data",
          "data": {
            "text/html": [
              "TRUE"
            ],
            "text/markdown": "TRUE",
            "text/latex": "TRUE",
            "text/plain": [
              "[1] TRUE"
            ]
          },
          "metadata": {}
        },
        {
          "output_type": "display_data",
          "data": {
            "text/html": [
              "FALSE"
            ],
            "text/markdown": "FALSE",
            "text/latex": "FALSE",
            "text/plain": [
              "[1] FALSE"
            ]
          },
          "metadata": {}
        },
        {
          "output_type": "display_data",
          "data": {
            "text/html": [
              "TRUE"
            ],
            "text/markdown": "TRUE",
            "text/latex": "TRUE",
            "text/plain": [
              "[1] TRUE"
            ]
          },
          "metadata": {}
        },
        {
          "output_type": "display_data",
          "data": {
            "text/html": [
              "FALSE"
            ],
            "text/markdown": "FALSE",
            "text/latex": "FALSE",
            "text/plain": [
              "[1] FALSE"
            ]
          },
          "metadata": {}
        },
        {
          "output_type": "display_data",
          "data": {
            "text/html": [
              "FALSE"
            ],
            "text/markdown": "FALSE",
            "text/latex": "FALSE",
            "text/plain": [
              "[1] FALSE"
            ]
          },
          "metadata": {}
        }
      ]
    },
    {
      "cell_type": "code",
      "source": [
        "## date\n",
        "today_date <- as.Date(\"2023-11-11\")\n",
        "print(today_date)\n",
        "print(class(today_date))"
      ],
      "metadata": {
        "colab": {
          "base_uri": "https://localhost:8080/"
        },
        "id": "yWXqdbjVdQDC",
        "outputId": "840630ab-9b2a-4032-bd1f-66ac71e2fd8d"
      },
      "execution_count": null,
      "outputs": [
        {
          "output_type": "stream",
          "name": "stdout",
          "text": [
            "[1] \"2023-11-11\"\n",
            "[1] \"Date\"\n"
          ]
        }
      ]
    },
    {
      "cell_type": "code",
      "source": [
        "## as.___() change data type\n",
        "as.character(today_date)\n",
        "as.integer(FALSE)"
      ],
      "metadata": {
        "colab": {
          "base_uri": "https://localhost:8080/",
          "height": 52
        },
        "id": "qVW-CX51dyQO",
        "outputId": "09cfb488-e3b0-4e88-e46f-c956f65a2694"
      },
      "execution_count": null,
      "outputs": [
        {
          "output_type": "display_data",
          "data": {
            "text/html": [
              "'2023-11-11'"
            ],
            "text/markdown": "'2023-11-11'",
            "text/latex": "'2023-11-11'",
            "text/plain": [
              "[1] \"2023-11-11\""
            ]
          },
          "metadata": {}
        },
        {
          "output_type": "display_data",
          "data": {
            "text/html": [
              "0"
            ],
            "text/markdown": "0",
            "text/latex": "0",
            "text/plain": [
              "[1] 0"
            ]
          },
          "metadata": {}
        }
      ]
    },
    {
      "cell_type": "code",
      "source": [
        "## vector => similar to Google Sheets Array\n",
        "gender <- c(\"male\", \"female\", \"male\") # ซ้ำกันได้\n",
        "\n",
        "gender_new <- factor(gender) # จำแนก\n",
        "gender_new\n",
        "class(gender_new)"
      ],
      "metadata": {
        "colab": {
          "base_uri": "https://localhost:8080/",
          "height": 69
        },
        "id": "pcSBR6vDeL7k",
        "outputId": "35dd10c9-4faf-491c-cf67-af9a6b31f43e"
      },
      "execution_count": null,
      "outputs": [
        {
          "output_type": "display_data",
          "data": {
            "text/html": [
              "<style>\n",
              ".list-inline {list-style: none; margin:0; padding: 0}\n",
              ".list-inline>li {display: inline-block}\n",
              ".list-inline>li:not(:last-child)::after {content: \"\\00b7\"; padding: 0 .5ex}\n",
              "</style>\n",
              "<ol class=list-inline><li>male</li><li>female</li><li>male</li></ol>\n",
              "\n",
              "<details>\n",
              "\t<summary style=display:list-item;cursor:pointer>\n",
              "\t\t<strong>Levels</strong>:\n",
              "\t</summary>\n",
              "\t<style>\n",
              "\t.list-inline {list-style: none; margin:0; padding: 0}\n",
              "\t.list-inline>li {display: inline-block}\n",
              "\t.list-inline>li:not(:last-child)::after {content: \"\\00b7\"; padding: 0 .5ex}\n",
              "\t</style>\n",
              "\t<ol class=list-inline><li>'female'</li><li>'male'</li></ol>\n",
              "</details>"
            ],
            "text/markdown": "1. male\n2. female\n3. male\n\n\n\n**Levels**: 1. 'female'\n2. 'male'\n\n\n",
            "text/latex": "\\begin{enumerate*}\n\\item male\n\\item female\n\\item male\n\\end{enumerate*}\n\n\\emph{Levels}: \\begin{enumerate*}\n\\item 'female'\n\\item 'male'\n\\end{enumerate*}\n",
            "text/plain": [
              "[1] male   female male  \n",
              "Levels: female male"
            ]
          },
          "metadata": {}
        },
        {
          "output_type": "display_data",
          "data": {
            "text/html": [
              "'factor'"
            ],
            "text/markdown": "'factor'",
            "text/latex": "'factor'",
            "text/plain": [
              "[1] \"factor\""
            ]
          },
          "metadata": {}
        }
      ]
    },
    {
      "cell_type": "code",
      "source": [
        "is.factor(gender_new) ## check\n",
        "class(gender_new)"
      ],
      "metadata": {
        "colab": {
          "base_uri": "https://localhost:8080/",
          "height": 52
        },
        "id": "HTRJ3HDWfnEu",
        "outputId": "58f97ac3-2c20-40ad-a054-e645fd9ccd83"
      },
      "execution_count": null,
      "outputs": [
        {
          "output_type": "display_data",
          "data": {
            "text/html": [
              "TRUE"
            ],
            "text/markdown": "TRUE",
            "text/latex": "TRUE",
            "text/plain": [
              "[1] TRUE"
            ]
          },
          "metadata": {}
        },
        {
          "output_type": "display_data",
          "data": {
            "text/html": [
              "'factor'"
            ],
            "text/markdown": "'factor'",
            "text/latex": "'factor'",
            "text/plain": [
              "[1] \"factor\""
            ]
          },
          "metadata": {}
        }
      ]
    },
    {
      "cell_type": "code",
      "source": [
        "## factor has two categories\n",
        "## 1. nominal: male, female\n",
        "## 2. ordinal: low < med < high"
      ],
      "metadata": {
        "id": "ROEw0Xbaf5WJ"
      },
      "execution_count": null,
      "outputs": []
    },
    {
      "cell_type": "code",
      "source": [
        "m1 <- matrix(c(3,2,1,4,2,4), nrow = 2   )\n",
        "print(m1)"
      ],
      "metadata": {
        "id": "iJJ3qPFcnOcI",
        "colab": {
          "base_uri": "https://localhost:8080/"
        },
        "outputId": "f7713e2c-5547-42ca-a119-662d3ff14a0e"
      },
      "execution_count": null,
      "outputs": [
        {
          "output_type": "stream",
          "name": "stdout",
          "text": [
            "     [,1] [,2] [,3]\n",
            "[1,]    3    1    2\n",
            "[2,]    2    4    4\n"
          ]
        }
      ]
    }
  ]
}