{
  "nbformat": 4,
  "nbformat_minor": 0,
  "metadata": {
    "colab": {
      "provenance": []
    },
    "kernelspec": {
      "name": "python3",
      "display_name": "Python 3"
    },
    "language_info": {
      "name": "python"
    }
  },
  "cells": [
    {
      "cell_type": "markdown",
      "source": [
        "# 1. ATM"
      ],
      "metadata": {
        "id": "7hdvGcUScMFG"
      }
    },
    {
      "cell_type": "code",
      "execution_count": null,
      "metadata": {
        "id": "tqHJZk3NWb5x"
      },
      "outputs": [],
      "source": [
        "from random import randint\n",
        "\n",
        "class ATM:\n",
        "    def __init__(self, account_name, bank_name, initial): ## double underscore เรียกว่า dunder\n",
        "        self.account_name = account_name\n",
        "        self.bank_name = bank_name\n",
        "        self.balance = initial\n",
        "\n",
        "    ## string representation\n",
        "    def __str__(self):\n",
        "        return f\"This is an account of {self.account_name}, bank: {self.bank_name}\"\n",
        "\n",
        "    ## method => function\n",
        "    def check_balance(self):\n",
        "        print(f\"Balance: {self.balance}\")\n",
        "\n",
        "    def deposit(self, money):\n",
        "        self.balance += money\n",
        "        print(f\"Deposit successfully: your name balance: {self.balance} THB\")\n",
        "\n",
        "    def withdraw(self, money):\n",
        "        self.balance -= money\n",
        "        print(f\"Withdraw successfully: your name balance: {self.balance} THB\")\n",
        "\n",
        "    def get_OTP(self):\n",
        "        otp = randint(1000,9999)\n",
        "        print(f\"Your OTP: {otp}. This OTP will be available in the next 2 minutes.\")\n",
        "\n",
        "    def change_account_name(self, new_account_name):\n",
        "        print(f\"your previous name is {self.account_name}.\")\n",
        "        self.account_name = new_account_name\n",
        "        print(f\"now your current name is {self.account_name}.\")\n",
        "\n",
        "    def buy_subscription(self):\n",
        "        while True:\n",
        "            subscription_list = [\"Youtube\", \"Spotify\", \"Joox\"]\n",
        "            print(\"subscription list\")\n",
        "            num = 1\n",
        "            for i in subscription_list:\n",
        "                print(f\"{num}. {i.lower()}\")\n",
        "                num += 1\n",
        "\n",
        "            your_subscription = str(input(\"Select your service from [subscription list] or type [stop] to exit: \").lower())\n",
        "            print()\n",
        "            if your_subscription == 'youtube':\n",
        "                print('Thankyou for purchase Youtube Premium.')\n",
        "\n",
        "            elif your_subscription == 'spotify':\n",
        "                print('Thankyou for purchase Spotify Premium.')\n",
        "\n",
        "            elif your_subscription == 'joox':\n",
        "                print('Thankyou for purchase Joox Premium.')\n",
        "\n",
        "            elif your_subscription == \"stop\":\n",
        "                print(\"We are incredibly grateful for your trust and support in choosing our service.\")\n",
        "                break\n",
        "\n",
        "            else:\n",
        "                print (\"Sorry you should choose something wrong. Please try again!!\")\n",
        "\n",
        "            print()"
      ]
    },
    {
      "cell_type": "code",
      "source": [
        "## build instance\n",
        "acc1 = ATM(\"Sammy\", \"SCB\", 1500)\n",
        "acc2 = ATM(\"Ploy\", \"Krungthai\", 2000)"
      ],
      "metadata": {
        "id": "5qbtn1scNVku"
      },
      "execution_count": null,
      "outputs": []
    },
    {
      "cell_type": "code",
      "source": [
        "## __str__\n",
        "print(acc1)"
      ],
      "metadata": {
        "colab": {
          "base_uri": "https://localhost:8080/"
        },
        "id": "KKEymTRQWerB",
        "outputId": "ddff6c51-93c5-41dc-d422-2e6715dc085e"
      },
      "execution_count": null,
      "outputs": [
        {
          "output_type": "stream",
          "name": "stdout",
          "text": [
            "This is an account of Sammy, bank: SCB\n"
          ]
        }
      ]
    },
    {
      "cell_type": "code",
      "source": [
        "## change account name\n",
        "acc1.change_account_name(\"Sanny\")"
      ],
      "metadata": {
        "colab": {
          "base_uri": "https://localhost:8080/"
        },
        "id": "-OSRKQQWf397",
        "outputId": "5df9a8f2-3866-47fa-9ae3-35b4edd8c3f5"
      },
      "execution_count": null,
      "outputs": [
        {
          "output_type": "stream",
          "name": "stdout",
          "text": [
            "your previous name is Sam.\n",
            "now your current name is Sanny.\n"
          ]
        }
      ]
    },
    {
      "cell_type": "code",
      "source": [
        "## buy service\n",
        "acc1.buy_subscription()"
      ],
      "metadata": {
        "colab": {
          "base_uri": "https://localhost:8080/"
        },
        "id": "L8tUQO_7WxGl",
        "outputId": "a9bfa196-5e42-4fb1-dd30-26458b84f51e"
      },
      "execution_count": null,
      "outputs": [
        {
          "output_type": "stream",
          "name": "stdout",
          "text": [
            "subscription list\n",
            "1. youtube\n",
            "2. spotify\n",
            "3. joox\n",
            "Select your service from [subscription list] or type [stop] to exit: test\n",
            "\n",
            "Sorry you should choose something wrong. Please try again!!\n",
            "\n",
            "subscription list\n",
            "1. youtube\n",
            "2. spotify\n",
            "3. joox\n",
            "Select your service from [subscription list] or type [stop] to exit: Youtube\n",
            "\n",
            "Thankyou for purchase Youtube Premium.\n",
            "\n",
            "subscription list\n",
            "1. youtube\n",
            "2. spotify\n",
            "3. joox\n",
            "Select your service from [subscription list] or type [stop] to exit: stop\n",
            "\n",
            "We are incredibly grateful for your trust and support in choosing our service.\n"
          ]
        }
      ]
    },
    {
      "cell_type": "markdown",
      "source": [
        "# 2. Pao-Ying-Chup"
      ],
      "metadata": {
        "id": "3VCjVgXQcQLE"
      }
    },
    {
      "cell_type": "code",
      "source": [
        "import random"
      ],
      "metadata": {
        "id": "aqE2k2aef-q0"
      },
      "execution_count": null,
      "outputs": []
    },
    {
      "cell_type": "code",
      "source": [
        "def game():\n",
        "    # score and round\n",
        "    your_score = 0\n",
        "    bot_score = 0\n",
        "    round = 1\n",
        "\n",
        "    # player name\n",
        "    my_name = input(\"What's your name: \")\n",
        "    print(f\"Hi {my_name}. Welcome to Pao-Ying-Chup Game\")\n",
        "\n",
        "    # weapon\n",
        "    weapon = [\"rock\", \"paper\", \"scissors\"]\n",
        "\n",
        "    while True:\n",
        "        # select weapon\n",
        "        bot_weapon = random.choice(weapon)\n",
        "        your_weapon = input(\"Select your weapon: \").lower()\n",
        "\n",
        "        # exit\n",
        "        if your_weapon == \"exit\":\n",
        "            print(\"game complete\")\n",
        "            print(f\"my score is {your_score}\")\n",
        "            print(f\"bot score is {bot_score}\")\n",
        "            if your_score > bot_score:\n",
        "                print(\"YOU WIN\")\n",
        "            elif your_score < bot_score:\n",
        "                print(\"YOU LOSE\")\n",
        "            else:\n",
        "                print(\"YOU TIE\")\n",
        "            break\n",
        "\n",
        "        # stop\n",
        "        elif your_weapon == bot_weapon:\n",
        "            print(\"YOU TIE\")\n",
        "            print(f\"my score is {your_score}\")\n",
        "            print(f\"bot score is {bot_score}\")\n",
        "            print(f\"round: {round}\")\n",
        "            round += 1\n",
        "\n",
        "        # win\n",
        "        elif (your_weapon == \"rock\" and bot_weapon == \"scissors\") or \\\n",
        "            (your_weapon == \"scissors\" and bot_weapon == \"paper\") or \\\n",
        "            (your_weapon == \"paper\" and bot_weapon == \"rock\"):\n",
        "            print(f\"my weapon is {your_weapon} and bot weapon {bot_weapon}\")\n",
        "            print(\"YOU WIN\")\n",
        "            your_score += 1\n",
        "            print(f\"my score is {your_score}\")\n",
        "            print(f\"bot score is {bot_score}\")\n",
        "            print(f\"round: {round}\")\n",
        "            round += 1\n",
        "\n",
        "        # lose\n",
        "        elif (your_weapon == \"rock\" and bot_weapon == \"paper\") or \\\n",
        "            (your_weapon == \"scissors\" and bot_weapon == \"rock\") or \\\n",
        "            (your_weapon == \"paper\" and bot_weapon == \"scissors\"):\n",
        "            print(f\"my weapon is {your_weapon} and bot weapon {bot_weapon}\")\n",
        "            print(\"YOU LOSE\")\n",
        "            bot_score += 1\n",
        "            print(f\"my score is {your_score}\")\n",
        "            print(f\"bot score is {bot_score}\")\n",
        "            print(f\"round: {round}\")\n",
        "            round += 1\n",
        "\n",
        "        # something wrong\n",
        "        else:\n",
        "            print(\"you choose something wrong!?\")\n",
        "            print(\"plz try it again.\")"
      ],
      "metadata": {
        "id": "CtnUIHUGcWTq"
      },
      "execution_count": null,
      "outputs": []
    },
    {
      "cell_type": "markdown",
      "source": [],
      "metadata": {
        "id": "jUstxvEidcqN"
      }
    },
    {
      "cell_type": "code",
      "source": [
        "game()"
      ],
      "metadata": {
        "colab": {
          "base_uri": "https://localhost:8080/"
        },
        "id": "J94b2Q1Zb-Px",
        "outputId": "b678b4b9-7f1c-4ad5-8637-53b1014f4398"
      },
      "execution_count": null,
      "outputs": [
        {
          "output_type": "stream",
          "name": "stdout",
          "text": [
            "What's your name: sam\n",
            "Hi sam. Welcome to Pao-Ying-Chup Game\n",
            "Select your weapon: paper\n",
            "YOU TIE\n",
            "my score is 0\n",
            "bot score is 0\n",
            "round: 1\n",
            "Select your weapon: Paper\n",
            "my weapon is paper and bot weapon rock\n",
            "YOU WIN\n",
            "my score is 1\n",
            "bot score is 0\n",
            "round: 2\n",
            "Select your weapon: dasd\n",
            "you choose something wrong!?\n",
            "plz try it again.\n",
            "Select your weapon: exit\n",
            "game complete\n",
            "my score is 1\n",
            "bot score is 0\n",
            "YOU WIN\n"
          ]
        }
      ]
    },
    {
      "cell_type": "markdown",
      "source": [
        "# 3. API Star War (SWAPI)"
      ],
      "metadata": {
        "id": "xkYgQnmU83YJ"
      }
    },
    {
      "cell_type": "code",
      "source": [
        "## แบบที่สอน\n",
        "from requests import get\n",
        "from time import sleep\n",
        "\n",
        "url = \"https://swapi.dev/api/people/\"\n",
        "\n",
        "for i in range(5):\n",
        "    index = i + 1\n",
        "    new_url = url + str(index)\n",
        "    resp = get(new_url).json()\n",
        "    name = resp[\"name\"]\n",
        "    height = resp[\"height\"]\n",
        "    print(name, height)\n",
        "    sleep(1)"
      ],
      "metadata": {
        "colab": {
          "base_uri": "https://localhost:8080/"
        },
        "id": "rRMbnwPC89az",
        "outputId": "7a6e1822-6409-459b-f7ff-13a34d9958e7"
      },
      "execution_count": null,
      "outputs": [
        {
          "output_type": "stream",
          "name": "stdout",
          "text": [
            "Luke Skywalker 172\n",
            "C-3PO 167\n",
            "R2-D2 96\n",
            "Darth Vader 202\n",
            "Leia Organa 150\n"
          ]
        }
      ]
    },
    {
      "cell_type": "code",
      "source": [
        "## ฝึกทำ Homework\n",
        "from requests import get\n",
        "from time import sleep\n",
        "import pandas as pd\n",
        "\n",
        "characters = []\n",
        "\n",
        "# name, gender, height, mass, birth_year, homeworld\n",
        "\n",
        "for i in range(5):\n",
        "    url = f\"https://swapi.dev/api/people/{i+1}\"\n",
        "    resp = get(url).json()\n",
        "    # ดึง API อีกรอบนึงเพราะ resp[\"homeworld\"] มีค่าเป็น https://swapi.dev/api/planets/1/ และเลือกดึง field name มา\n",
        "    homeworld = get(resp[\"homeworld\"]).json()[\"name\"]\n",
        "    # แก้ field gender ที่ n/a เป็น unknown แทน\n",
        "    gender = resp[\"gender\"] if resp[\"gender\"] != \"n/a\" else \"unknown\"\n",
        "    characters.append(\n",
        "            (resp[\"name\"],\n",
        "            gender,\n",
        "            resp[\"height\"],\n",
        "            resp[\"mass\"],\n",
        "            resp[\"birth_year\"],\n",
        "            homeworld)\n",
        "        )\n",
        "    sleep(1) # cd 1 sec"
      ],
      "metadata": {
        "id": "jPqqVvtn95TO"
      },
      "execution_count": null,
      "outputs": []
    },
    {
      "cell_type": "code",
      "source": [
        "print(characters)"
      ],
      "metadata": {
        "colab": {
          "base_uri": "https://localhost:8080/"
        },
        "id": "nI0KDo5iG1vF",
        "outputId": "627663e5-ba4d-4491-f7e2-088a240af228"
      },
      "execution_count": null,
      "outputs": [
        {
          "output_type": "stream",
          "name": "stdout",
          "text": [
            "[('Luke Skywalker', 'male', '172', '77', '19BBY', 'Tatooine'), ('C-3PO', 'unknown', '167', '75', '112BBY', 'Tatooine'), ('R2-D2', 'unknown', '96', '32', '33BBY', 'Naboo'), ('Darth Vader', 'male', '202', '136', '41.9BBY', 'Tatooine'), ('Leia Organa', 'female', '150', '49', '19BBY', 'Alderaan')]\n"
          ]
        }
      ]
    },
    {
      "cell_type": "code",
      "source": [
        "df1 = pd.DataFrame(characters)\n",
        "print(df1)"
      ],
      "metadata": {
        "colab": {
          "base_uri": "https://localhost:8080/"
        },
        "id": "Xh6fG6iUlhFy",
        "outputId": "fa24f812-ab73-4374-b375-afe4c36e66ff"
      },
      "execution_count": null,
      "outputs": [
        {
          "output_type": "stream",
          "name": "stdout",
          "text": [
            "                0       1    2    3        4         5\n",
            "0  Luke Skywalker    male  172   77    19BBY  Tatooine\n",
            "1           C-3PO     n/a  167   75   112BBY  Tatooine\n",
            "2           R2-D2     n/a   96   32    33BBY     Naboo\n",
            "3     Darth Vader    male  202  136  41.9BBY  Tatooine\n",
            "4     Leia Organa  female  150   49    19BBY  Alderaan\n"
          ]
        }
      ]
    },
    {
      "cell_type": "code",
      "source": [
        "df1.to_csv(\"Starwar_101.csv\", index = False)"
      ],
      "metadata": {
        "id": "T9gTqTzfl5qQ"
      },
      "execution_count": null,
      "outputs": []
    },
    {
      "cell_type": "markdown",
      "source": [
        "# 4. Public API"
      ],
      "metadata": {
        "id": "QKfGPv9dmfAa"
      }
    },
    {
      "cell_type": "code",
      "source": [
        "from requests import get\n",
        "from time import sleep\n",
        "import pandas as pd\n",
        "\n",
        "profile = []\n",
        "\n",
        "for i in range(5):\n",
        "    url = f\"https://rickandmortyapi.com/api/character/{i+1}\"\n",
        "    respone = get(url)\n",
        "    if respone.status_code == 200:\n",
        "        respone = respone.json()\n",
        "        profile.append(\n",
        "                (respone[\"id\"],\n",
        "                respone[\"gender\"],\n",
        "                respone[\"name\"],\n",
        "                respone[\"status\"],\n",
        "                respone[\"species\"],\n",
        "                respone[\"type\"])\n",
        "            )\n",
        "        sleep(1)\n",
        "    else:\n",
        "        print(\"Error\")"
      ],
      "metadata": {
        "id": "RRxGK_IamkIb"
      },
      "execution_count": null,
      "outputs": []
    },
    {
      "cell_type": "code",
      "source": [
        "df2 = pd.DataFrame(profile)"
      ],
      "metadata": {
        "id": "Ytjoo0LCtex1"
      },
      "execution_count": null,
      "outputs": []
    },
    {
      "cell_type": "code",
      "source": [
        "df2.to_csv(\"Rick_n_Morty.csv\", index = False)"
      ],
      "metadata": {
        "id": "2b-IZq2Mtufj"
      },
      "execution_count": null,
      "outputs": []
    },
    {
      "cell_type": "markdown",
      "source": [
        "# 5. SKLearn"
      ],
      "metadata": {
        "id": "vhRVm07hEpih"
      }
    },
    {
      "cell_type": "code",
      "source": [
        "from sklearn.model_selection import train_test_split\n",
        "from sklearn.linear_model import LogisticRegression\n",
        "\n",
        "url = \"/content/churn(1).csv\"\n",
        "\n",
        "churn = pd.read_csv(\"/content/churn(1).csv\")\n",
        "\n",
        "churn.head()"
      ],
      "metadata": {
        "colab": {
          "base_uri": "https://localhost:8080/",
          "height": 226
        },
        "id": "NMXmdfaIEwMC",
        "outputId": "f82688f6-dc1a-41ff-a15b-bff4300026a7"
      },
      "execution_count": null,
      "outputs": [
        {
          "output_type": "execute_result",
          "data": {
            "text/plain": [
              "  churn  accountlength internationalplan voicemailplan  numbervmailmessages  \\\n",
              "0    No            128                no           yes                   25   \n",
              "1    No            107                no           yes                   26   \n",
              "2    No            137                no            no                    0   \n",
              "3    No             84               yes            no                    0   \n",
              "4    No             75               yes            no                    0   \n",
              "\n",
              "   totaldayminutes  totaldaycalls  totaldaycharge  totaleveminutes  \\\n",
              "0            265.1            110           45.07            197.4   \n",
              "1            161.6            123           27.47            195.5   \n",
              "2            243.4            114           41.38            121.2   \n",
              "3            299.4             71           50.90             61.9   \n",
              "4            166.7            113           28.34            148.3   \n",
              "\n",
              "   totalevecalls  totalevecharge  totalnightminutes  totalnightcalls  \\\n",
              "0             99           16.78              244.7               91   \n",
              "1            103           16.62              254.4              103   \n",
              "2            110           10.30              162.6              104   \n",
              "3             88            5.26              196.9               89   \n",
              "4            122           12.61              186.9              121   \n",
              "\n",
              "   totalnightcharge  totalintlminutes  totalintlcalls  totalintlcharge  \\\n",
              "0             11.01              10.0               3             2.70   \n",
              "1             11.45              13.7               3             3.70   \n",
              "2              7.32              12.2               5             3.29   \n",
              "3              8.86               6.6               7             1.78   \n",
              "4              8.41              10.1               3             2.73   \n",
              "\n",
              "   numbercustomerservicecalls  \n",
              "0                           1  \n",
              "1                           1  \n",
              "2                           0  \n",
              "3                           2  \n",
              "4                           3  "
            ],
            "text/html": [
              "\n",
              "  <div id=\"df-3a86ea20-279e-4fa4-94ec-2d34cc07b65f\" class=\"colab-df-container\">\n",
              "    <div>\n",
              "<style scoped>\n",
              "    .dataframe tbody tr th:only-of-type {\n",
              "        vertical-align: middle;\n",
              "    }\n",
              "\n",
              "    .dataframe tbody tr th {\n",
              "        vertical-align: top;\n",
              "    }\n",
              "\n",
              "    .dataframe thead th {\n",
              "        text-align: right;\n",
              "    }\n",
              "</style>\n",
              "<table border=\"1\" class=\"dataframe\">\n",
              "  <thead>\n",
              "    <tr style=\"text-align: right;\">\n",
              "      <th></th>\n",
              "      <th>churn</th>\n",
              "      <th>accountlength</th>\n",
              "      <th>internationalplan</th>\n",
              "      <th>voicemailplan</th>\n",
              "      <th>numbervmailmessages</th>\n",
              "      <th>totaldayminutes</th>\n",
              "      <th>totaldaycalls</th>\n",
              "      <th>totaldaycharge</th>\n",
              "      <th>totaleveminutes</th>\n",
              "      <th>totalevecalls</th>\n",
              "      <th>totalevecharge</th>\n",
              "      <th>totalnightminutes</th>\n",
              "      <th>totalnightcalls</th>\n",
              "      <th>totalnightcharge</th>\n",
              "      <th>totalintlminutes</th>\n",
              "      <th>totalintlcalls</th>\n",
              "      <th>totalintlcharge</th>\n",
              "      <th>numbercustomerservicecalls</th>\n",
              "    </tr>\n",
              "  </thead>\n",
              "  <tbody>\n",
              "    <tr>\n",
              "      <th>0</th>\n",
              "      <td>No</td>\n",
              "      <td>128</td>\n",
              "      <td>no</td>\n",
              "      <td>yes</td>\n",
              "      <td>25</td>\n",
              "      <td>265.1</td>\n",
              "      <td>110</td>\n",
              "      <td>45.07</td>\n",
              "      <td>197.4</td>\n",
              "      <td>99</td>\n",
              "      <td>16.78</td>\n",
              "      <td>244.7</td>\n",
              "      <td>91</td>\n",
              "      <td>11.01</td>\n",
              "      <td>10.0</td>\n",
              "      <td>3</td>\n",
              "      <td>2.70</td>\n",
              "      <td>1</td>\n",
              "    </tr>\n",
              "    <tr>\n",
              "      <th>1</th>\n",
              "      <td>No</td>\n",
              "      <td>107</td>\n",
              "      <td>no</td>\n",
              "      <td>yes</td>\n",
              "      <td>26</td>\n",
              "      <td>161.6</td>\n",
              "      <td>123</td>\n",
              "      <td>27.47</td>\n",
              "      <td>195.5</td>\n",
              "      <td>103</td>\n",
              "      <td>16.62</td>\n",
              "      <td>254.4</td>\n",
              "      <td>103</td>\n",
              "      <td>11.45</td>\n",
              "      <td>13.7</td>\n",
              "      <td>3</td>\n",
              "      <td>3.70</td>\n",
              "      <td>1</td>\n",
              "    </tr>\n",
              "    <tr>\n",
              "      <th>2</th>\n",
              "      <td>No</td>\n",
              "      <td>137</td>\n",
              "      <td>no</td>\n",
              "      <td>no</td>\n",
              "      <td>0</td>\n",
              "      <td>243.4</td>\n",
              "      <td>114</td>\n",
              "      <td>41.38</td>\n",
              "      <td>121.2</td>\n",
              "      <td>110</td>\n",
              "      <td>10.30</td>\n",
              "      <td>162.6</td>\n",
              "      <td>104</td>\n",
              "      <td>7.32</td>\n",
              "      <td>12.2</td>\n",
              "      <td>5</td>\n",
              "      <td>3.29</td>\n",
              "      <td>0</td>\n",
              "    </tr>\n",
              "    <tr>\n",
              "      <th>3</th>\n",
              "      <td>No</td>\n",
              "      <td>84</td>\n",
              "      <td>yes</td>\n",
              "      <td>no</td>\n",
              "      <td>0</td>\n",
              "      <td>299.4</td>\n",
              "      <td>71</td>\n",
              "      <td>50.90</td>\n",
              "      <td>61.9</td>\n",
              "      <td>88</td>\n",
              "      <td>5.26</td>\n",
              "      <td>196.9</td>\n",
              "      <td>89</td>\n",
              "      <td>8.86</td>\n",
              "      <td>6.6</td>\n",
              "      <td>7</td>\n",
              "      <td>1.78</td>\n",
              "      <td>2</td>\n",
              "    </tr>\n",
              "    <tr>\n",
              "      <th>4</th>\n",
              "      <td>No</td>\n",
              "      <td>75</td>\n",
              "      <td>yes</td>\n",
              "      <td>no</td>\n",
              "      <td>0</td>\n",
              "      <td>166.7</td>\n",
              "      <td>113</td>\n",
              "      <td>28.34</td>\n",
              "      <td>148.3</td>\n",
              "      <td>122</td>\n",
              "      <td>12.61</td>\n",
              "      <td>186.9</td>\n",
              "      <td>121</td>\n",
              "      <td>8.41</td>\n",
              "      <td>10.1</td>\n",
              "      <td>3</td>\n",
              "      <td>2.73</td>\n",
              "      <td>3</td>\n",
              "    </tr>\n",
              "  </tbody>\n",
              "</table>\n",
              "</div>\n",
              "    <div class=\"colab-df-buttons\">\n",
              "\n",
              "  <div class=\"colab-df-container\">\n",
              "    <button class=\"colab-df-convert\" onclick=\"convertToInteractive('df-3a86ea20-279e-4fa4-94ec-2d34cc07b65f')\"\n",
              "            title=\"Convert this dataframe to an interactive table.\"\n",
              "            style=\"display:none;\">\n",
              "\n",
              "  <svg xmlns=\"http://www.w3.org/2000/svg\" height=\"24px\" viewBox=\"0 -960 960 960\">\n",
              "    <path d=\"M120-120v-720h720v720H120Zm60-500h600v-160H180v160Zm220 220h160v-160H400v160Zm0 220h160v-160H400v160ZM180-400h160v-160H180v160Zm440 0h160v-160H620v160ZM180-180h160v-160H180v160Zm440 0h160v-160H620v160Z\"/>\n",
              "  </svg>\n",
              "    </button>\n",
              "\n",
              "  <style>\n",
              "    .colab-df-container {\n",
              "      display:flex;\n",
              "      gap: 12px;\n",
              "    }\n",
              "\n",
              "    .colab-df-convert {\n",
              "      background-color: #E8F0FE;\n",
              "      border: none;\n",
              "      border-radius: 50%;\n",
              "      cursor: pointer;\n",
              "      display: none;\n",
              "      fill: #1967D2;\n",
              "      height: 32px;\n",
              "      padding: 0 0 0 0;\n",
              "      width: 32px;\n",
              "    }\n",
              "\n",
              "    .colab-df-convert:hover {\n",
              "      background-color: #E2EBFA;\n",
              "      box-shadow: 0px 1px 2px rgba(60, 64, 67, 0.3), 0px 1px 3px 1px rgba(60, 64, 67, 0.15);\n",
              "      fill: #174EA6;\n",
              "    }\n",
              "\n",
              "    .colab-df-buttons div {\n",
              "      margin-bottom: 4px;\n",
              "    }\n",
              "\n",
              "    [theme=dark] .colab-df-convert {\n",
              "      background-color: #3B4455;\n",
              "      fill: #D2E3FC;\n",
              "    }\n",
              "\n",
              "    [theme=dark] .colab-df-convert:hover {\n",
              "      background-color: #434B5C;\n",
              "      box-shadow: 0px 1px 3px 1px rgba(0, 0, 0, 0.15);\n",
              "      filter: drop-shadow(0px 1px 2px rgba(0, 0, 0, 0.3));\n",
              "      fill: #FFFFFF;\n",
              "    }\n",
              "  </style>\n",
              "\n",
              "    <script>\n",
              "      const buttonEl =\n",
              "        document.querySelector('#df-3a86ea20-279e-4fa4-94ec-2d34cc07b65f button.colab-df-convert');\n",
              "      buttonEl.style.display =\n",
              "        google.colab.kernel.accessAllowed ? 'block' : 'none';\n",
              "\n",
              "      async function convertToInteractive(key) {\n",
              "        const element = document.querySelector('#df-3a86ea20-279e-4fa4-94ec-2d34cc07b65f');\n",
              "        const dataTable =\n",
              "          await google.colab.kernel.invokeFunction('convertToInteractive',\n",
              "                                                    [key], {});\n",
              "        if (!dataTable) return;\n",
              "\n",
              "        const docLinkHtml = 'Like what you see? Visit the ' +\n",
              "          '<a target=\"_blank\" href=https://colab.research.google.com/notebooks/data_table.ipynb>data table notebook</a>'\n",
              "          + ' to learn more about interactive tables.';\n",
              "        element.innerHTML = '';\n",
              "        dataTable['output_type'] = 'display_data';\n",
              "        await google.colab.output.renderOutput(dataTable, element);\n",
              "        const docLink = document.createElement('div');\n",
              "        docLink.innerHTML = docLinkHtml;\n",
              "        element.appendChild(docLink);\n",
              "      }\n",
              "    </script>\n",
              "  </div>\n",
              "\n",
              "\n",
              "<div id=\"df-ea568df4-0773-45d5-bb91-649ea1344669\">\n",
              "  <button class=\"colab-df-quickchart\" onclick=\"quickchart('df-ea568df4-0773-45d5-bb91-649ea1344669')\"\n",
              "            title=\"Suggest charts\"\n",
              "            style=\"display:none;\">\n",
              "\n",
              "<svg xmlns=\"http://www.w3.org/2000/svg\" height=\"24px\"viewBox=\"0 0 24 24\"\n",
              "     width=\"24px\">\n",
              "    <g>\n",
              "        <path d=\"M19 3H5c-1.1 0-2 .9-2 2v14c0 1.1.9 2 2 2h14c1.1 0 2-.9 2-2V5c0-1.1-.9-2-2-2zM9 17H7v-7h2v7zm4 0h-2V7h2v10zm4 0h-2v-4h2v4z\"/>\n",
              "    </g>\n",
              "</svg>\n",
              "  </button>\n",
              "\n",
              "<style>\n",
              "  .colab-df-quickchart {\n",
              "      --bg-color: #E8F0FE;\n",
              "      --fill-color: #1967D2;\n",
              "      --hover-bg-color: #E2EBFA;\n",
              "      --hover-fill-color: #174EA6;\n",
              "      --disabled-fill-color: #AAA;\n",
              "      --disabled-bg-color: #DDD;\n",
              "  }\n",
              "\n",
              "  [theme=dark] .colab-df-quickchart {\n",
              "      --bg-color: #3B4455;\n",
              "      --fill-color: #D2E3FC;\n",
              "      --hover-bg-color: #434B5C;\n",
              "      --hover-fill-color: #FFFFFF;\n",
              "      --disabled-bg-color: #3B4455;\n",
              "      --disabled-fill-color: #666;\n",
              "  }\n",
              "\n",
              "  .colab-df-quickchart {\n",
              "    background-color: var(--bg-color);\n",
              "    border: none;\n",
              "    border-radius: 50%;\n",
              "    cursor: pointer;\n",
              "    display: none;\n",
              "    fill: var(--fill-color);\n",
              "    height: 32px;\n",
              "    padding: 0;\n",
              "    width: 32px;\n",
              "  }\n",
              "\n",
              "  .colab-df-quickchart:hover {\n",
              "    background-color: var(--hover-bg-color);\n",
              "    box-shadow: 0 1px 2px rgba(60, 64, 67, 0.3), 0 1px 3px 1px rgba(60, 64, 67, 0.15);\n",
              "    fill: var(--button-hover-fill-color);\n",
              "  }\n",
              "\n",
              "  .colab-df-quickchart-complete:disabled,\n",
              "  .colab-df-quickchart-complete:disabled:hover {\n",
              "    background-color: var(--disabled-bg-color);\n",
              "    fill: var(--disabled-fill-color);\n",
              "    box-shadow: none;\n",
              "  }\n",
              "\n",
              "  .colab-df-spinner {\n",
              "    border: 2px solid var(--fill-color);\n",
              "    border-color: transparent;\n",
              "    border-bottom-color: var(--fill-color);\n",
              "    animation:\n",
              "      spin 1s steps(1) infinite;\n",
              "  }\n",
              "\n",
              "  @keyframes spin {\n",
              "    0% {\n",
              "      border-color: transparent;\n",
              "      border-bottom-color: var(--fill-color);\n",
              "      border-left-color: var(--fill-color);\n",
              "    }\n",
              "    20% {\n",
              "      border-color: transparent;\n",
              "      border-left-color: var(--fill-color);\n",
              "      border-top-color: var(--fill-color);\n",
              "    }\n",
              "    30% {\n",
              "      border-color: transparent;\n",
              "      border-left-color: var(--fill-color);\n",
              "      border-top-color: var(--fill-color);\n",
              "      border-right-color: var(--fill-color);\n",
              "    }\n",
              "    40% {\n",
              "      border-color: transparent;\n",
              "      border-right-color: var(--fill-color);\n",
              "      border-top-color: var(--fill-color);\n",
              "    }\n",
              "    60% {\n",
              "      border-color: transparent;\n",
              "      border-right-color: var(--fill-color);\n",
              "    }\n",
              "    80% {\n",
              "      border-color: transparent;\n",
              "      border-right-color: var(--fill-color);\n",
              "      border-bottom-color: var(--fill-color);\n",
              "    }\n",
              "    90% {\n",
              "      border-color: transparent;\n",
              "      border-bottom-color: var(--fill-color);\n",
              "    }\n",
              "  }\n",
              "</style>\n",
              "\n",
              "  <script>\n",
              "    async function quickchart(key) {\n",
              "      const quickchartButtonEl =\n",
              "        document.querySelector('#' + key + ' button');\n",
              "      quickchartButtonEl.disabled = true;  // To prevent multiple clicks.\n",
              "      quickchartButtonEl.classList.add('colab-df-spinner');\n",
              "      try {\n",
              "        const charts = await google.colab.kernel.invokeFunction(\n",
              "            'suggestCharts', [key], {});\n",
              "      } catch (error) {\n",
              "        console.error('Error during call to suggestCharts:', error);\n",
              "      }\n",
              "      quickchartButtonEl.classList.remove('colab-df-spinner');\n",
              "      quickchartButtonEl.classList.add('colab-df-quickchart-complete');\n",
              "    }\n",
              "    (() => {\n",
              "      let quickchartButtonEl =\n",
              "        document.querySelector('#df-ea568df4-0773-45d5-bb91-649ea1344669 button');\n",
              "      quickchartButtonEl.style.display =\n",
              "        google.colab.kernel.accessAllowed ? 'block' : 'none';\n",
              "    })();\n",
              "  </script>\n",
              "</div>\n",
              "    </div>\n",
              "  </div>\n"
            ],
            "application/vnd.google.colaboratory.intrinsic+json": {
              "type": "dataframe",
              "variable_name": "churn",
              "summary": "{\n  \"name\": \"churn\",\n  \"rows\": 5000,\n  \"fields\": [\n    {\n      \"column\": \"churn\",\n      \"properties\": {\n        \"dtype\": \"category\",\n        \"num_unique_values\": 2,\n        \"samples\": [\n          \"Yes\",\n          \"No\"\n        ],\n        \"semantic_type\": \"\",\n        \"description\": \"\"\n      }\n    },\n    {\n      \"column\": \"accountlength\",\n      \"properties\": {\n        \"dtype\": \"number\",\n        \"std\": 39,\n        \"min\": 1,\n        \"max\": 243,\n        \"num_unique_values\": 218,\n        \"samples\": [\n          185,\n          216\n        ],\n        \"semantic_type\": \"\",\n        \"description\": \"\"\n      }\n    },\n    {\n      \"column\": \"internationalplan\",\n      \"properties\": {\n        \"dtype\": \"category\",\n        \"num_unique_values\": 2,\n        \"samples\": [\n          \"yes\",\n          \"no\"\n        ],\n        \"semantic_type\": \"\",\n        \"description\": \"\"\n      }\n    },\n    {\n      \"column\": \"voicemailplan\",\n      \"properties\": {\n        \"dtype\": \"category\",\n        \"num_unique_values\": 2,\n        \"samples\": [\n          \"no\",\n          \"yes\"\n        ],\n        \"semantic_type\": \"\",\n        \"description\": \"\"\n      }\n    },\n    {\n      \"column\": \"numbervmailmessages\",\n      \"properties\": {\n        \"dtype\": \"number\",\n        \"std\": 13,\n        \"min\": 0,\n        \"max\": 52,\n        \"num_unique_values\": 48,\n        \"samples\": [\n          17,\n          49\n        ],\n        \"semantic_type\": \"\",\n        \"description\": \"\"\n      }\n    },\n    {\n      \"column\": \"totaldayminutes\",\n      \"properties\": {\n        \"dtype\": \"number\",\n        \"std\": 53.894699168932206,\n        \"min\": 0.0,\n        \"max\": 351.5,\n        \"num_unique_values\": 1961,\n        \"samples\": [\n          209.2,\n          118.1\n        ],\n        \"semantic_type\": \"\",\n        \"description\": \"\"\n      }\n    },\n    {\n      \"column\": \"totaldaycalls\",\n      \"properties\": {\n        \"dtype\": \"number\",\n        \"std\": 19,\n        \"min\": 0,\n        \"max\": 165,\n        \"num_unique_values\": 123,\n        \"samples\": [\n          117,\n          83\n        ],\n        \"semantic_type\": \"\",\n        \"description\": \"\"\n      }\n    },\n    {\n      \"column\": \"totaldaycharge\",\n      \"properties\": {\n        \"dtype\": \"number\",\n        \"std\": 9.162068691639353,\n        \"min\": 0.0,\n        \"max\": 59.76,\n        \"num_unique_values\": 1961,\n        \"samples\": [\n          35.56,\n          20.08\n        ],\n        \"semantic_type\": \"\",\n        \"description\": \"\"\n      }\n    },\n    {\n      \"column\": \"totaleveminutes\",\n      \"properties\": {\n        \"dtype\": \"number\",\n        \"std\": 50.55130896756351,\n        \"min\": 0.0,\n        \"max\": 363.7,\n        \"num_unique_values\": 1879,\n        \"samples\": [\n          186.3,\n          257.1\n        ],\n        \"semantic_type\": \"\",\n        \"description\": \"\"\n      }\n    },\n    {\n      \"column\": \"totalevecalls\",\n      \"properties\": {\n        \"dtype\": \"number\",\n        \"std\": 19,\n        \"min\": 0,\n        \"max\": 170,\n        \"num_unique_values\": 126,\n        \"samples\": [\n          57,\n          121\n        ],\n        \"semantic_type\": \"\",\n        \"description\": \"\"\n      }\n    },\n    {\n      \"column\": \"totalevecharge\",\n      \"properties\": {\n        \"dtype\": \"number\",\n        \"std\": 4.296843300934601,\n        \"min\": 0.0,\n        \"max\": 30.91,\n        \"num_unique_values\": 1659,\n        \"samples\": [\n          10.17,\n          16.34\n        ],\n        \"semantic_type\": \"\",\n        \"description\": \"\"\n      }\n    },\n    {\n      \"column\": \"totalnightminutes\",\n      \"properties\": {\n        \"dtype\": \"number\",\n        \"std\": 50.52778925772485,\n        \"min\": 0.0,\n        \"max\": 395.0,\n        \"num_unique_values\": 1853,\n        \"samples\": [\n          283.4,\n          288.0\n        ],\n        \"semantic_type\": \"\",\n        \"description\": \"\"\n      }\n    },\n    {\n      \"column\": \"totalnightcalls\",\n      \"properties\": {\n        \"dtype\": \"number\",\n        \"std\": 19,\n        \"min\": 0,\n        \"max\": 175,\n        \"num_unique_values\": 131,\n        \"samples\": [\n          72,\n          106\n        ],\n        \"semantic_type\": \"\",\n        \"description\": \"\"\n      }\n    },\n    {\n      \"column\": \"totalnightcharge\",\n      \"properties\": {\n        \"dtype\": \"number\",\n        \"std\": 2.2737626559293957,\n        \"min\": 0.0,\n        \"max\": 17.77,\n        \"num_unique_values\": 1028,\n        \"samples\": [\n          7.07,\n          10.34\n        ],\n        \"semantic_type\": \"\",\n        \"description\": \"\"\n      }\n    },\n    {\n      \"column\": \"totalintlminutes\",\n      \"properties\": {\n        \"dtype\": \"number\",\n        \"std\": 2.7613957146447827,\n        \"min\": 0.0,\n        \"max\": 20.0,\n        \"num_unique_values\": 170,\n        \"samples\": [\n          15.7,\n          14.5\n        ],\n        \"semantic_type\": \"\",\n        \"description\": \"\"\n      }\n    },\n    {\n      \"column\": \"totalintlcalls\",\n      \"properties\": {\n        \"dtype\": \"number\",\n        \"std\": 2,\n        \"min\": 0,\n        \"max\": 20,\n        \"num_unique_values\": 21,\n        \"samples\": [\n          3,\n          14\n        ],\n        \"semantic_type\": \"\",\n        \"description\": \"\"\n      }\n    },\n    {\n      \"column\": \"totalintlcharge\",\n      \"properties\": {\n        \"dtype\": \"number\",\n        \"std\": 0.7455137072660329,\n        \"min\": 0.0,\n        \"max\": 5.4,\n        \"num_unique_values\": 170,\n        \"samples\": [\n          4.24,\n          3.92\n        ],\n        \"semantic_type\": \"\",\n        \"description\": \"\"\n      }\n    },\n    {\n      \"column\": \"numbercustomerservicecalls\",\n      \"properties\": {\n        \"dtype\": \"number\",\n        \"std\": 1,\n        \"min\": 0,\n        \"max\": 9,\n        \"num_unique_values\": 10,\n        \"samples\": [\n          6,\n          0\n        ],\n        \"semantic_type\": \"\",\n        \"description\": \"\"\n      }\n    }\n  ]\n}"
            }
          },
          "metadata": {},
          "execution_count": 14
        }
      ]
    },
    {
      "cell_type": "code",
      "source": [
        "# prepare data\n",
        "x = churn[[\"totaldaycalls\",\"totalevecalls\",\"totalnightcalls\"]]\n",
        "y = churn[\"churn\"]\n",
        "\n",
        "# split data\n",
        "x_train, x_test, y_train, y_test = train_test_split(\n",
        "    x, y, test_size = 0.20, random_state = 42\n",
        ")\n",
        "\n",
        "# train model\n",
        "model = LogisticRegression()\n",
        "model.fit(x_train, y_train)\n",
        "\n",
        "# score\n",
        "train_error = model.score(x_train, y_train)\n",
        "\n",
        "# evaluate\n",
        "test_error = model.score(x_test, y_test)\n",
        "\n",
        "print(train_error, test_error)"
      ],
      "metadata": {
        "colab": {
          "base_uri": "https://localhost:8080/"
        },
        "id": "MJrPsCdAb4Yg",
        "outputId": "8f08f6fd-3088-4da9-ceee-7d6ce635ad94"
      },
      "execution_count": null,
      "outputs": [
        {
          "output_type": "stream",
          "name": "stdout",
          "text": [
            "0.858 0.861\n"
          ]
        }
      ]
    },
    {
      "cell_type": "markdown",
      "source": [],
      "metadata": {
        "id": "pYMtxpjrcLY3"
      }
    }
  ]
}